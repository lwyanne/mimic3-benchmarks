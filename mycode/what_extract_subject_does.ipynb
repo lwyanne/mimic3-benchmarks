{
 "cells": [
  {
   "cell_type": "code",
   "execution_count": 1,
   "metadata": {},
   "outputs": [],
   "source": [
    "import numpy as np\n",
    "import pandas as pd\n",
    "import os\n",
    "import sys\n",
    "sys.path.append('/home/ZwZ/cpc/mimic3-benchmarks/')\n",
    "from mimic3benchmark.mimic3csv import *\n",
    "from mimic3benchmark.preprocessing import add_hcup_ccs_2015_groups, make_phenotype_label_matrix\n",
    "from mimic3benchmark.util import dataframe_from_csv"
   ]
  },
  {
   "cell_type": "code",
   "execution_count": 19,
   "metadata": {},
   "outputs": [
    {
     "name": "stdout",
     "output_type": "stream",
     "text": [
      "The autoreload extension is already loaded. To reload it, use:\n",
      "  %reload_ext autoreload\n"
     ]
    }
   ],
   "source": [
    "%load_ext autoreload\n",
    "%autoreload 2"
   ]
  },
  {
   "cell_type": "code",
   "execution_count": 2,
   "metadata": {},
   "outputs": [],
   "source": [
    "mimic_path ='/home/ZwZ/database/MIMIC'"
   ]
  },
  {
   "cell_type": "markdown",
   "metadata": {},
   "source": [
    "## Read Table"
   ]
  },
  {
   "cell_type": "code",
   "execution_count": 3,
   "metadata": {},
   "outputs": [],
   "source": [
    "patients=read_patients_table(mimic_path)\n",
    "admins=read_admissions_table(mimic_path)\n",
    "stays=read_icustays_table(mimic_path)"
   ]
  },
  {
   "cell_type": "code",
   "execution_count": 4,
   "metadata": {},
   "outputs": [
    {
     "data": {
      "text/html": [
       "<div>\n",
       "<style scoped>\n",
       "    .dataframe tbody tr th:only-of-type {\n",
       "        vertical-align: middle;\n",
       "    }\n",
       "\n",
       "    .dataframe tbody tr th {\n",
       "        vertical-align: top;\n",
       "    }\n",
       "\n",
       "    .dataframe thead th {\n",
       "        text-align: right;\n",
       "    }\n",
       "</style>\n",
       "<table border=\"1\" class=\"dataframe\">\n",
       "  <thead>\n",
       "    <tr style=\"text-align: right;\">\n",
       "      <th></th>\n",
       "      <th>SUBJECT_ID</th>\n",
       "      <th>GENDER</th>\n",
       "      <th>DOB</th>\n",
       "      <th>DOD</th>\n",
       "    </tr>\n",
       "    <tr>\n",
       "      <th>ROW_ID</th>\n",
       "      <th></th>\n",
       "      <th></th>\n",
       "      <th></th>\n",
       "      <th></th>\n",
       "    </tr>\n",
       "  </thead>\n",
       "  <tbody>\n",
       "    <tr>\n",
       "      <th>234</th>\n",
       "      <td>249</td>\n",
       "      <td>F</td>\n",
       "      <td>2075-03-13</td>\n",
       "      <td>NaT</td>\n",
       "    </tr>\n",
       "    <tr>\n",
       "      <th>235</th>\n",
       "      <td>250</td>\n",
       "      <td>F</td>\n",
       "      <td>2164-12-27</td>\n",
       "      <td>2188-11-22</td>\n",
       "    </tr>\n",
       "  </tbody>\n",
       "</table>\n",
       "</div>"
      ],
      "text/plain": [
       "        SUBJECT_ID GENDER        DOB        DOD\n",
       "ROW_ID                                         \n",
       "234            249      F 2075-03-13        NaT\n",
       "235            250      F 2164-12-27 2188-11-22"
      ]
     },
     "execution_count": 4,
     "metadata": {},
     "output_type": "execute_result"
    }
   ],
   "source": [
    "patients.head(2)"
   ]
  },
  {
   "cell_type": "code",
   "execution_count": 5,
   "metadata": {},
   "outputs": [
    {
     "data": {
      "text/html": [
       "<div>\n",
       "<style scoped>\n",
       "    .dataframe tbody tr th:only-of-type {\n",
       "        vertical-align: middle;\n",
       "    }\n",
       "\n",
       "    .dataframe tbody tr th {\n",
       "        vertical-align: top;\n",
       "    }\n",
       "\n",
       "    .dataframe thead th {\n",
       "        text-align: right;\n",
       "    }\n",
       "</style>\n",
       "<table border=\"1\" class=\"dataframe\">\n",
       "  <thead>\n",
       "    <tr style=\"text-align: right;\">\n",
       "      <th></th>\n",
       "      <th>SUBJECT_ID</th>\n",
       "      <th>HADM_ID</th>\n",
       "      <th>ADMITTIME</th>\n",
       "      <th>DISCHTIME</th>\n",
       "      <th>DEATHTIME</th>\n",
       "      <th>ETHNICITY</th>\n",
       "      <th>DIAGNOSIS</th>\n",
       "    </tr>\n",
       "    <tr>\n",
       "      <th>ROW_ID</th>\n",
       "      <th></th>\n",
       "      <th></th>\n",
       "      <th></th>\n",
       "      <th></th>\n",
       "      <th></th>\n",
       "      <th></th>\n",
       "      <th></th>\n",
       "    </tr>\n",
       "  </thead>\n",
       "  <tbody>\n",
       "    <tr>\n",
       "      <th>21</th>\n",
       "      <td>22</td>\n",
       "      <td>165315</td>\n",
       "      <td>2196-04-09 12:26:00</td>\n",
       "      <td>2196-04-10 15:54:00</td>\n",
       "      <td>NaT</td>\n",
       "      <td>WHITE</td>\n",
       "      <td>BENZODIAZEPINE OVERDOSE</td>\n",
       "    </tr>\n",
       "    <tr>\n",
       "      <th>22</th>\n",
       "      <td>23</td>\n",
       "      <td>152223</td>\n",
       "      <td>2153-09-03 07:15:00</td>\n",
       "      <td>2153-09-08 19:10:00</td>\n",
       "      <td>NaT</td>\n",
       "      <td>WHITE</td>\n",
       "      <td>CORONARY ARTERY DISEASE\\CORONARY ARTERY BYPASS...</td>\n",
       "    </tr>\n",
       "  </tbody>\n",
       "</table>\n",
       "</div>"
      ],
      "text/plain": [
       "        SUBJECT_ID  HADM_ID           ADMITTIME           DISCHTIME DEATHTIME  \\\n",
       "ROW_ID                                                                          \n",
       "21              22   165315 2196-04-09 12:26:00 2196-04-10 15:54:00       NaT   \n",
       "22              23   152223 2153-09-03 07:15:00 2153-09-08 19:10:00       NaT   \n",
       "\n",
       "       ETHNICITY                                          DIAGNOSIS  \n",
       "ROW_ID                                                               \n",
       "21         WHITE                            BENZODIAZEPINE OVERDOSE  \n",
       "22         WHITE  CORONARY ARTERY DISEASE\\CORONARY ARTERY BYPASS...  "
      ]
     },
     "execution_count": 5,
     "metadata": {},
     "output_type": "execute_result"
    }
   ],
   "source": [
    "admins.head(2)"
   ]
  },
  {
   "cell_type": "markdown",
   "metadata": {},
   "source": [
    "## Filtering"
   ]
  },
  {
   "cell_type": "code",
   "execution_count": 7,
   "metadata": {},
   "outputs": [
    {
     "data": {
      "text/plain": [
       "(55830, 8)"
      ]
     },
     "execution_count": 7,
     "metadata": {},
     "output_type": "execute_result"
    }
   ],
   "source": [
    "stays = remove_icustays_with_transfers(stays)\n",
    "\n",
    "# dimension inspection\n",
    "stays.shape"
   ]
  },
  {
   "cell_type": "code",
   "execution_count": 8,
   "metadata": {},
   "outputs": [
    {
     "data": {
      "text/plain": [
       "(55830, 16)"
      ]
     },
     "execution_count": 8,
     "metadata": {},
     "output_type": "execute_result"
    }
   ],
   "source": [
    "stays = merge_on_subject_admission(stays,admins)\n",
    "stays = merge_on_subject(stays, patients)\n",
    "\n",
    "stays.shape # columns increased "
   ]
  },
  {
   "cell_type": "markdown",
   "metadata": {},
   "source": [
    "### further filtering patients "
   ]
  },
  {
   "cell_type": "code",
   "execution_count": 9,
   "metadata": {},
   "outputs": [],
   "source": [
    "# the code inside filter_admissions_on_nb_icustays\n",
    "to_keep = stays.groupby('HADM_ID').count()[['ICUSTAY_ID']].reset_index()"
   ]
  },
  {
   "cell_type": "code",
   "execution_count": 10,
   "metadata": {
    "scrolled": true
   },
   "outputs": [
    {
     "data": {
      "text/html": [
       "<div>\n",
       "<style scoped>\n",
       "    .dataframe tbody tr th:only-of-type {\n",
       "        vertical-align: middle;\n",
       "    }\n",
       "\n",
       "    .dataframe tbody tr th {\n",
       "        vertical-align: top;\n",
       "    }\n",
       "\n",
       "    .dataframe thead th {\n",
       "        text-align: right;\n",
       "    }\n",
       "</style>\n",
       "<table border=\"1\" class=\"dataframe\">\n",
       "  <thead>\n",
       "    <tr style=\"text-align: right;\">\n",
       "      <th></th>\n",
       "      <th>HADM_ID</th>\n",
       "      <th>ICUSTAY_ID</th>\n",
       "    </tr>\n",
       "  </thead>\n",
       "  <tbody>\n",
       "    <tr>\n",
       "      <th>0</th>\n",
       "      <td>100001</td>\n",
       "      <td>1</td>\n",
       "    </tr>\n",
       "    <tr>\n",
       "      <th>1</th>\n",
       "      <td>100003</td>\n",
       "      <td>1</td>\n",
       "    </tr>\n",
       "    <tr>\n",
       "      <th>2</th>\n",
       "      <td>100006</td>\n",
       "      <td>1</td>\n",
       "    </tr>\n",
       "    <tr>\n",
       "      <th>3</th>\n",
       "      <td>100009</td>\n",
       "      <td>1</td>\n",
       "    </tr>\n",
       "    <tr>\n",
       "      <th>4</th>\n",
       "      <td>100010</td>\n",
       "      <td>1</td>\n",
       "    </tr>\n",
       "    <tr>\n",
       "      <th>...</th>\n",
       "      <td>...</td>\n",
       "      <td>...</td>\n",
       "    </tr>\n",
       "    <tr>\n",
       "      <th>52829</th>\n",
       "      <td>199993</td>\n",
       "      <td>1</td>\n",
       "    </tr>\n",
       "    <tr>\n",
       "      <th>52830</th>\n",
       "      <td>199994</td>\n",
       "      <td>1</td>\n",
       "    </tr>\n",
       "    <tr>\n",
       "      <th>52831</th>\n",
       "      <td>199995</td>\n",
       "      <td>1</td>\n",
       "    </tr>\n",
       "    <tr>\n",
       "      <th>52832</th>\n",
       "      <td>199998</td>\n",
       "      <td>1</td>\n",
       "    </tr>\n",
       "    <tr>\n",
       "      <th>52833</th>\n",
       "      <td>199999</td>\n",
       "      <td>1</td>\n",
       "    </tr>\n",
       "  </tbody>\n",
       "</table>\n",
       "<p>52834 rows × 2 columns</p>\n",
       "</div>"
      ],
      "text/plain": [
       "       HADM_ID  ICUSTAY_ID\n",
       "0       100001           1\n",
       "1       100003           1\n",
       "2       100006           1\n",
       "3       100009           1\n",
       "4       100010           1\n",
       "...        ...         ...\n",
       "52829   199993           1\n",
       "52830   199994           1\n",
       "52831   199995           1\n",
       "52832   199998           1\n",
       "52833   199999           1\n",
       "\n",
       "[52834 rows x 2 columns]"
      ]
     },
     "execution_count": 10,
     "metadata": {},
     "output_type": "execute_result"
    }
   ],
   "source": [
    "to_keep"
   ]
  },
  {
   "cell_type": "code",
   "execution_count": 11,
   "metadata": {},
   "outputs": [
    {
     "data": {
      "text/plain": [
       "(50186, 16)"
      ]
     },
     "execution_count": 11,
     "metadata": {},
     "output_type": "execute_result"
    }
   ],
   "source": [
    "stays = filter_admissions_on_nb_icustays(stays)\n",
    "stays.shape"
   ]
  },
  {
   "cell_type": "code",
   "execution_count": 12,
   "metadata": {},
   "outputs": [
    {
     "data": {
      "text/plain": [
       "(42276, 20)"
      ]
     },
     "execution_count": 12,
     "metadata": {},
     "output_type": "execute_result"
    }
   ],
   "source": [
    "stays = add_age_to_icustays(stays)                               # add age info\n",
    "stays = add_inunit_mortality_to_icustays(stays)                  # die in ICU ? 0: alive , 1: dead\n",
    "stays = add_inhospital_mortality_to_icustays(stays)              # die in hospital ? 0 : alive , 1: dead\n",
    "stays = filter_icustays_on_age(stays)                            # screening patients older than 18\n",
    "\n",
    "stays.shape"
   ]
  },
  {
   "cell_type": "markdown",
   "metadata": {},
   "source": [
    "## Diagnose"
   ]
  },
  {
   "cell_type": "code",
   "execution_count": 14,
   "metadata": {},
   "outputs": [
    {
     "data": {
      "text/html": [
       "<div>\n",
       "<style scoped>\n",
       "    .dataframe tbody tr th:only-of-type {\n",
       "        vertical-align: middle;\n",
       "    }\n",
       "\n",
       "    .dataframe tbody tr th {\n",
       "        vertical-align: top;\n",
       "    }\n",
       "\n",
       "    .dataframe thead th {\n",
       "        text-align: right;\n",
       "    }\n",
       "</style>\n",
       "<table border=\"1\" class=\"dataframe\">\n",
       "  <thead>\n",
       "    <tr style=\"text-align: right;\">\n",
       "      <th></th>\n",
       "      <th>ICD9_CODE</th>\n",
       "      <th>SHORT_TITLE</th>\n",
       "      <th>LONG_TITLE</th>\n",
       "      <th>COUNT</th>\n",
       "    </tr>\n",
       "  </thead>\n",
       "  <tbody>\n",
       "    <tr>\n",
       "      <th>0</th>\n",
       "      <td>4019</td>\n",
       "      <td>Hypertension NOS</td>\n",
       "      <td>Unspecified essential hypertension</td>\n",
       "      <td>17343</td>\n",
       "    </tr>\n",
       "    <tr>\n",
       "      <th>1</th>\n",
       "      <td>4280</td>\n",
       "      <td>CHF NOS</td>\n",
       "      <td>Congestive heart failure, unspecified</td>\n",
       "      <td>10601</td>\n",
       "    </tr>\n",
       "    <tr>\n",
       "      <th>2</th>\n",
       "      <td>41401</td>\n",
       "      <td>Crnry athrscl natve vssl</td>\n",
       "      <td>Coronary atherosclerosis of native coronary ar...</td>\n",
       "      <td>10345</td>\n",
       "    </tr>\n",
       "    <tr>\n",
       "      <th>3</th>\n",
       "      <td>42731</td>\n",
       "      <td>Atrial fibrillation</td>\n",
       "      <td>Atrial fibrillation</td>\n",
       "      <td>10313</td>\n",
       "    </tr>\n",
       "    <tr>\n",
       "      <th>4</th>\n",
       "      <td>25000</td>\n",
       "      <td>DMII wo cmp nt st uncntr</td>\n",
       "      <td>Diabetes mellitus without mention of complicat...</td>\n",
       "      <td>7486</td>\n",
       "    </tr>\n",
       "    <tr>\n",
       "      <th>...</th>\n",
       "      <td>...</td>\n",
       "      <td>...</td>\n",
       "      <td>...</td>\n",
       "      <td>...</td>\n",
       "    </tr>\n",
       "    <tr>\n",
       "      <th>6164</th>\n",
       "      <td>49301</td>\n",
       "      <td>Ext asthma w status asth</td>\n",
       "      <td>Extrinsic asthma with status asthmaticus</td>\n",
       "      <td>1</td>\n",
       "    </tr>\n",
       "    <tr>\n",
       "      <th>6165</th>\n",
       "      <td>73002</td>\n",
       "      <td>Ac osteomyelitis-up/arm</td>\n",
       "      <td>Acute osteomyelitis, upper arm</td>\n",
       "      <td>1</td>\n",
       "    </tr>\n",
       "    <tr>\n",
       "      <th>6166</th>\n",
       "      <td>36801</td>\n",
       "      <td>Strabismic amblyopia</td>\n",
       "      <td>Strabismic amblyopia</td>\n",
       "      <td>1</td>\n",
       "    </tr>\n",
       "    <tr>\n",
       "      <th>6167</th>\n",
       "      <td>37952</td>\n",
       "      <td>Latent nystagmus</td>\n",
       "      <td>Latent nystagmus</td>\n",
       "      <td>1</td>\n",
       "    </tr>\n",
       "    <tr>\n",
       "      <th>6168</th>\n",
       "      <td>81603</td>\n",
       "      <td>Fx mult phalan, hand-cl</td>\n",
       "      <td>Closed fracture of multiple sites of phalanx o...</td>\n",
       "      <td>1</td>\n",
       "    </tr>\n",
       "  </tbody>\n",
       "</table>\n",
       "<p>6169 rows × 4 columns</p>\n",
       "</div>"
      ],
      "text/plain": [
       "     ICD9_CODE               SHORT_TITLE  \\\n",
       "0         4019          Hypertension NOS   \n",
       "1         4280                   CHF NOS   \n",
       "2        41401  Crnry athrscl natve vssl   \n",
       "3        42731       Atrial fibrillation   \n",
       "4        25000  DMII wo cmp nt st uncntr   \n",
       "...        ...                       ...   \n",
       "6164     49301  Ext asthma w status asth   \n",
       "6165     73002   Ac osteomyelitis-up/arm   \n",
       "6166     36801      Strabismic amblyopia   \n",
       "6167     37952          Latent nystagmus   \n",
       "6168     81603   Fx mult phalan, hand-cl   \n",
       "\n",
       "                                             LONG_TITLE  COUNT  \n",
       "0                    Unspecified essential hypertension  17343  \n",
       "1                 Congestive heart failure, unspecified  10601  \n",
       "2     Coronary atherosclerosis of native coronary ar...  10345  \n",
       "3                                   Atrial fibrillation  10313  \n",
       "4     Diabetes mellitus without mention of complicat...   7486  \n",
       "...                                                 ...    ...  \n",
       "6164           Extrinsic asthma with status asthmaticus      1  \n",
       "6165                     Acute osteomyelitis, upper arm      1  \n",
       "6166                               Strabismic amblyopia      1  \n",
       "6167                                   Latent nystagmus      1  \n",
       "6168  Closed fracture of multiple sites of phalanx o...      1  \n",
       "\n",
       "[6169 rows x 4 columns]"
      ]
     },
     "execution_count": 14,
     "metadata": {},
     "output_type": "execute_result"
    }
   ],
   "source": [
    "diagnoses = read_icd_diagnoses_table(mimic_path)\n",
    "# screen patients\n",
    "diagnoses = filter_diagnoses_on_stays(diagnoses, stays)\n",
    "\n",
    "count_icd_codes(diagnoses)"
   ]
  },
  {
   "cell_type": "code",
   "execution_count": 18,
   "metadata": {},
   "outputs": [
    {
     "data": {
      "text/plain": [
       "ICD9_CODE\n",
       "0030     2\n",
       "0038     1\n",
       "0039     1\n",
       "0041     3\n",
       "0048     1\n",
       "        ..\n",
       "V8821    3\n",
       "V9010    1\n",
       "V9039    1\n",
       "V9081    3\n",
       "V9089    1\n",
       "Name: ICUSTAY_ID, Length: 6169, dtype: int64"
      ]
     },
     "execution_count": 18,
     "metadata": {},
     "output_type": "execute_result"
    }
   ],
   "source": [
    "diagnoses.groupby('ICD9_CODE')['ICUSTAY_ID'].count() "
   ]
  },
  {
   "cell_type": "code",
   "execution_count": 21,
   "metadata": {},
   "outputs": [],
   "source": [
    "?read_admissions_table"
   ]
  },
  {
   "cell_type": "code",
   "execution_count": 23,
   "metadata": {},
   "outputs": [
    {
     "name": "stdout",
     "output_type": "stream",
     "text": [
      "test.ipynb  utils.py  what_extract_subject_does.ipynb\r\n"
     ]
    }
   ],
   "source": [
    "! ls"
   ]
  },
  {
   "cell_type": "code",
   "execution_count": null,
   "metadata": {},
   "outputs": [],
   "source": []
  },
  {
   "cell_type": "code",
   "execution_count": null,
   "metadata": {},
   "outputs": [],
   "source": [
    "codes = diagnoses[['ICD9_CODE', 'SHORT_TITLE', 'LONG_TITLE']].drop_duplicates().set_index('ICD9_CODE')\n",
    "codes['COUNT'] = diagnoses.groupby('ICD9_CODE')['ICUSTAY_ID'].count() "
   ]
  }
 ],
 "metadata": {
  "kernelspec": {
   "display_name": "Python 3",
   "language": "python",
   "name": "python3"
  },
  "language_info": {
   "codemirror_mode": {
    "name": "ipython",
    "version": 3
   },
   "file_extension": ".py",
   "mimetype": "text/x-python",
   "name": "python",
   "nbconvert_exporter": "python",
   "pygments_lexer": "ipython3",
   "version": "3.7.6"
  }
 },
 "nbformat": 4,
 "nbformat_minor": 4
}
