{
 "cells": [
  {
   "cell_type": "code",
   "execution_count": 30,
   "metadata": {},
   "outputs": [],
   "source": [
    "import numpy as np\n",
    "import pandas as pd\n",
    "import os\n",
    "from utils import *\n",
    "import json"
   ]
  },
  {
   "cell_type": "code",
   "execution_count": 93,
   "metadata": {},
   "outputs": [],
   "source": [
    "import datetime as dt\n",
    "import matplotlib.pyplot as plt"
   ]
  },
  {
   "cell_type": "code",
   "execution_count": 32,
   "metadata": {},
   "outputs": [],
   "source": [
    "path=!pwd\n",
    "path=path[0]\n",
    "variableList=pd.read_csv(os.path.join(os.path.join(path, os.pardir),'myvariablesList.csv'),header=None).values.tolist()\n",
    "patientHandler=PatientHandler(variableList)\n",
    "path=patientHandler.dataPath\n",
    "patientHandler.gen_list()\n"
   ]
  },
  {
   "cell_type": "code",
   "execution_count": 33,
   "metadata": {},
   "outputs": [],
   "source": [
    "\n",
    "item_dic=createItemPositionDict('/home/shuying/survival/benchmark/mimic3-benchmarks/myvariablesList.csv')   "
   ]
  },
  {
   "cell_type": "code",
   "execution_count": 77,
   "metadata": {},
   "outputs": [],
   "source": []
  },
  {
   "cell_type": "code",
   "execution_count": 80,
   "metadata": {
    "collapsed": true
   },
   "outputs": [
    {
     "data": {
      "text/plain": [
       "'2101-10-20 16:40:00,2101-10-20 16:49:00,2101-10-20 17:58:00,2101-10-20 18:00:00,2101-10-20 18:30:00,2101-10-20 18:45:00,2101-10-20 19:00:00,2101-10-20 19:12:00,2101-10-20 19:14:00,2101-10-20 19:15:00,2101-10-20 19:26:00,2101-10-20 19:30:00,2101-10-20 19:45:00,2101-10-20 19:59:00,2101-10-20 20:00:00,2101-10-20 20:04:00,2101-10-20 20:15:00,2101-10-20 20:30:00,2101-10-20 20:45:00,2101-10-20 21:00:00,2101-10-20 21:15:00,2101-10-20 21:30:00,2101-10-20 21:45:00,2101-10-20 21:51:00,2101-10-20 22:00:00,2101-10-20 22:15:00,2101-10-20 22:30:00,2101-10-20 22:45:00,2101-10-20 23:00:00,2101-10-20 23:15:00,2101-10-20 23:45:00,2101-10-21 00:00:00,2101-10-21 00:28:00,2101-10-21 00:42:00,2101-10-21 01:00:00,2101-10-21 01:46:00,2101-10-21 01:53:00,2101-10-21 02:00:00,2101-10-21 03:00:00,2101-10-21 03:09:00,2101-10-21 03:30:00,2101-10-21 03:57:00,2101-10-21 04:00:00,2101-10-21 04:15:00,2101-10-21 05:00:00,2101-10-21 06:00:00,2101-10-21 07:00:00,2101-10-21 07:05:00,2101-10-21 07:34:00,2101-10-21 08:00:00,2101-10-21 08:46:00,2101-10-21 08:51:00,2101-10-21 09:00:00,2101-10-21 09:48:00,2101-10-21 10:15:00,2101-10-21 10:23:00,2101-10-21 10:25:00,2101-10-21 10:45:00,2101-10-21 11:00:00,2101-10-21 11:11:00,2101-10-21 11:23:00,2101-10-21 11:30:00,2101-10-21 12:00:00,2101-10-21 13:00:00,2101-10-21 13:28:00,2101-10-21 13:30:00,2101-10-21 14:00:00,2101-10-21 14:45:00,2101-10-21 15:00:00,2101-10-21 15:48:00,2101-10-21 15:52:00,2101-10-21 16:00:00,2101-10-21 16:15:00,2101-10-21 16:30:00,2101-10-21 17:00:00,2101-10-21 17:30:00,2101-10-21 17:33:00,2101-10-21 17:37:00,2101-10-21 18:00:00,2101-10-21 18:30:00,2101-10-21 19:00:00,2101-10-21 19:06:00,2101-10-21 20:00:00,2101-10-21 20:12:00,2101-10-21 20:15:00,2101-10-21 20:50:00,2101-10-21 21:00:00,2101-10-21 22:00:00,2101-10-21 23:00:00,2101-10-21 23:27:00,2101-10-21 23:30:00,2101-10-21 23:38:00,2101-10-22 00:00:00,2101-10-22 01:00:00,2101-10-22 01:50:00,2101-10-22 01:54:00,2101-10-22 02:00:00,2101-10-22 02:11:00,2101-10-22 02:46:00,2101-10-22 03:00:00,2101-10-22 03:25:00,2101-10-22 04:00:00,2101-10-22 04:30:00,2101-10-22 04:31:00,2101-10-22 04:34:00,2101-10-22 05:00:00,2101-10-22 06:00:00,2101-10-22 07:00:00,2101-10-22 07:13:00,2101-10-22 07:14:00,2101-10-22 08:00:00,2101-10-22 09:00:00,2101-10-22 10:00:00,2101-10-22 10:16:00,2101-10-22 11:00:00,2101-10-22 11:21:00,2101-10-22 11:22:00,2101-10-22 12:00:00,2101-10-22 12:45:00,2101-10-22 13:00:00,2101-10-22 13:02:00,2101-10-22 14:00:00,2101-10-22 15:00:00,2101-10-22 15:59:00,2101-10-22 16:00:00,2101-10-22 16:02:00,2101-10-22 17:00:00,2101-10-22 18:00:00,2101-10-22 18:30:00,2101-10-22 19:00:00,2101-10-22 19:30:00,2101-10-22 20:00:00,2101-10-22 21:00:00,2101-10-22 21:15:00,2101-10-22 21:20:00,2101-10-22 21:22:00,2101-10-22 21:30:00,2101-10-22 22:00:00,2101-10-22 23:00:00,2101-10-23 00:00:00,2101-10-23 01:00:00,2101-10-23 02:00:00,2101-10-23 02:46:00,2101-10-23 02:49:00,2101-10-23 03:00:00,2101-10-23 03:45:00,2101-10-23 04:00:00,2101-10-23 05:00:00,2101-10-23 06:00:00,2101-10-23 07:00:00,2101-10-23 08:00:00,2101-10-23 09:00:00,2101-10-23 10:00:00,2101-10-23 10:10:00,2101-10-23 10:14:00,2101-10-23 10:22:00,2101-10-23 10:30:00,2101-10-23 11:00:00,2101-10-23 12:00:00,2101-10-23 13:00:00,2101-10-23 14:00:00,2101-10-23 15:00:00,2101-10-23 16:00:00,2101-10-23 16:10:00,2101-10-23 16:14:00,2101-10-23 17:00:00,2101-10-23 18:00:00,2101-10-23 19:00:00,2101-10-23 19:30:00,2101-10-23 20:00:00,2101-10-23 21:00:00,2101-10-23 22:00:00,2101-10-23 23:00:00,2101-10-23 23:56:00,2101-10-24 00:00:00,2101-10-24 01:00:00,2101-10-24 02:00:00,2101-10-24 03:00:00,2101-10-24 03:15:00,2101-10-24 03:18:00,2101-10-24 03:19:00,2101-10-24 04:00:00,2101-10-24 04:30:00,2101-10-24 04:50:00,2101-10-24 04:52:00,2101-10-24 05:00:00,2101-10-24 05:30:00,2101-10-24 06:00:00,2101-10-24 07:00:00,2101-10-24 07:44:00,2101-10-24 08:00:00,2101-10-24 09:00:00,2101-10-24 10:00:00,2101-10-24 10:40:00,2101-10-24 11:00:00,2101-10-24 11:12:00,2101-10-24 12:00:00,2101-10-24 13:00:00,2101-10-24 13:31:00,2101-10-24 14:00:00,2101-10-24 15:00:00,2101-10-24 16:00:00,2101-10-24 16:30:00,2101-10-24 17:00:00,2101-10-24 18:00:00,2101-10-24 19:00:00,2101-10-24 20:00:00,2101-10-24 21:00:00,2101-10-24 22:00:00,2101-10-24 23:00:00,2101-10-25 00:00:00,2101-10-25 01:00:00,2101-10-25 02:00:00,2101-10-25 03:00:00,2101-10-25 04:00:00,2101-10-25 05:00:00,2101-10-25 06:00:00,2101-10-25 07:00:00,2101-10-25 08:00:00,2101-10-25 09:00:00,2101-10-25 10:00:00,2101-10-25 11:00:00,2101-10-25 12:00:00,2101-10-25 13:00:00,2101-10-25 14:00:00,2101-10-25 15:00:00,2101-10-25 16:00:00,2101-10-25 16:15:00,2101-10-25 16:30:00,2101-10-25 17:00:00,2101-10-25 17:15:00,2101-10-25 17:30:00,2101-10-25 17:45:00,2101-10-25 17:52:00,2101-10-25 18:00:00,2101-10-25 19:00:00,2101-10-25 20:00:00,2101-10-25 21:00:00,2101-10-25 22:00:00,2101-10-25 23:00:00,2101-10-26 00:00:00,2101-10-26 01:00:00,2101-10-26 01:30:00,2101-10-26 02:00:00,2101-10-26 03:00:00,2101-10-26 04:00:00,2101-10-26 04:20:00,2101-10-26 05:00:00,2101-10-26 06:00:00,2101-10-26 06:25:00,2101-10-26 07:00:00,2101-10-26 08:00:00,2101-10-26 08:42:00,2101-10-26 08:50:00,2101-10-26 09:00:00,2101-10-26 09:30:00,2101-10-26 10:00:00,2101-10-26 10:15:00,2101-10-26 11:00:00,2101-10-26 11:15:00,2101-10-26 12:00:00,2101-10-26 12:15:00,2101-10-26 12:45:00,2101-10-26 13:00:00,2101-10-26 13:45:00,2101-10-26 14:00:00,2101-10-26 15:00:00,2101-10-26 15:30:00,2101-10-26 16:00:00,2101-10-26 17:00:00,2101-10-27 07:56:00,2101-10-28 01:13:00,2101-10-28 05:10:00,2101-10-28 09:30:00,2101-10-28 17:13:00,2101-10-29 04:45:00,2101-10-29 17:15:00,2101-10-30 04:30:00,2101-10-31 04:55:00,'"
      ]
     },
     "execution_count": 80,
     "metadata": {},
     "output_type": "execute_result"
    }
   ],
   "source": [
    "\n"
   ]
  },
  {
   "cell_type": "code",
   "execution_count": 98,
   "metadata": {},
   "outputs": [],
   "source": [
    "def showpatient(i):\n",
    "    p=patientHandler.get_one(i)\n",
    "    matrix=np.load(p+'/variables.npy',allow_pickle=True)\n",
    "\n",
    "    temp=pd.read_csv(os.path.join(p,'stays.csv'))\n",
    "    intime=temp['INTIME'][0] # Currently only consider the first ICU STAY #TODO:\n",
    "    del temp\n",
    "    intime=dt.datetime.fromisoformat(intime)\n",
    "    with open(p+'/timeList.txt','r') as f:\n",
    "        timeList=f.readline()\n",
    "    timeList=timeList.split(',')\n",
    "    timeList.pop()\n",
    "    timeList=[dt.datetime.fromisoformat(i)-intime for i in timeList]\n",
    "    inflag=0\n",
    "    for (i,time) in enumerate(timeList):    \n",
    "        delta=(time.total_seconds())/3600\n",
    "        if delta>48:\n",
    "            endflag=i\n",
    "            break\n",
    "        if delta>0 and inflag==0: inflag=i\n",
    "\n",
    "        del delta\n",
    "\n",
    "    s=matrix.shape\n",
    "    matrix48=np.zeros((endflag-inflag,s[1]+1))\n",
    "    matrix48[:,1:]=matrix[inflag:endflag,:]\n",
    "    matrix48[:,0]=[i.total_seconds()/3600 for i in timeList[inflag:endflag]]\n",
    "    plt.imshow(matrix48)"
   ]
  },
  {
   "cell_type": "code",
   "execution_count": 100,
   "metadata": {},
   "outputs": [
    {
     "data": {
      "image/png": "[encoded data removed]",
      "text/plain": [
       "<Figure size 432x288 with 1 Axes>"
      ]
     },
     "metadata": {
      "needs_background": "light"
     },
     "output_type": "display_data"
    }
   ],
   "source": [
    "showpatient(29994)"
   ]
  },
  {
   "cell_type": "code",
   "execution_count": 101,
   "metadata": {},
   "outputs": [
    {
     "data": {
      "image/png": "[encoded data removed]",
      "text/plain": [
       "<Figure size 432x288 with 1 Axes>"
      ]
     },
     "metadata": {
      "needs_background": "light"
     },
     "output_type": "display_data"
    }
   ],
   "source": [
    "showpatient(29995)"
   ]
  },
  {
   "cell_type": "code",
   "execution_count": 105,
   "metadata": {},
   "outputs": [
    {
     "data": {
      "image/png": "[encoded data removed]",
      "text/plain": [
       "<Figure size 432x288 with 1 Axes>"
      ]
     },
     "metadata": {
      "needs_background": "light"
     },
     "output_type": "display_data"
    }
   ],
   "source": [
    "showpatient(29999)"
   ]
  },
  {
   "cell_type": "code",
   "execution_count": 106,
   "metadata": {},
   "outputs": [
    {
     "data": {
      "image/png": "[encoded data removed]",
      "text/plain": [
       "<Figure size 432x288 with 1 Axes>"
      ]
     },
     "metadata": {
      "needs_background": "light"
     },
     "output_type": "display_data"
    }
   ],
   "source": [
    "showpatient(29989)"
   ]
  },
  {
   "cell_type": "code",
   "execution_count": 5,
   "metadata": {},
   "outputs": [],
   "source": [
    "path='/home/shuying/survival/benchmark/mimic3-benchmarks/data/root/'+'itemType.csv'\n"
   ]
  },
  {
   "cell_type": "code",
   "execution_count": 6,
   "metadata": {
    "collapsed": true
   },
   "outputs": [
    {
     "data": {
      "text/plain": [
       "'/home/shuying/survival/benchmark/mimic3-benchmarks/data/root/itemType.csv'"
      ]
     },
     "execution_count": 6,
     "metadata": {},
     "output_type": "execute_result"
    }
   ],
   "source": [
    "path"
   ]
  },
  {
   "cell_type": "code",
   "execution_count": 7,
   "metadata": {
    "scrolled": true
   },
   "outputs": [
    {
     "ename": "ParserError",
     "evalue": "Error tokenizing data. C error: Expected 1 fields in line 4, saw 2\n",
     "output_type": "error",
     "traceback": [
      "\u001b[0;31m---------------------------------------------------------------------------\u001b[0m",
      "\u001b[0;31mParserError\u001b[0m                               Traceback (most recent call last)",
      "\u001b[0;32m<ipython-input-7-ef84a602a1d6>\u001b[0m in \u001b[0;36m<module>\u001b[0;34m\u001b[0m\n\u001b[0;32m----> 1\u001b[0;31m \u001b[0mdf\u001b[0m\u001b[0;34m=\u001b[0m\u001b[0mpd\u001b[0m\u001b[0;34m.\u001b[0m\u001b[0mread_csv\u001b[0m\u001b[0;34m(\u001b[0m\u001b[0mpath\u001b[0m\u001b[0;34m)\u001b[0m\u001b[0;34m\u001b[0m\u001b[0;34m\u001b[0m\u001b[0m\n\u001b[0m",
      "\u001b[0;32m~/anaconda3/lib/python3.7/site-packages/pandas/io/parsers.py\u001b[0m in \u001b[0;36mparser_f\u001b[0;34m(filepath_or_buffer, sep, delimiter, header, names, index_col, usecols, squeeze, prefix, mangle_dupe_cols, dtype, engine, converters, true_values, false_values, skipinitialspace, skiprows, skipfooter, nrows, na_values, keep_default_na, na_filter, verbose, skip_blank_lines, parse_dates, infer_datetime_format, keep_date_col, date_parser, dayfirst, iterator, chunksize, compression, thousands, decimal, lineterminator, quotechar, quoting, doublequote, escapechar, comment, encoding, dialect, tupleize_cols, error_bad_lines, warn_bad_lines, delim_whitespace, low_memory, memory_map, float_precision)\u001b[0m\n\u001b[1;32m    700\u001b[0m                     skip_blank_lines=skip_blank_lines)\n\u001b[1;32m    701\u001b[0m \u001b[0;34m\u001b[0m\u001b[0m\n\u001b[0;32m--> 702\u001b[0;31m         \u001b[0;32mreturn\u001b[0m \u001b[0m_read\u001b[0m\u001b[0;34m(\u001b[0m\u001b[0mfilepath_or_buffer\u001b[0m\u001b[0;34m,\u001b[0m \u001b[0mkwds\u001b[0m\u001b[0;34m)\u001b[0m\u001b[0;34m\u001b[0m\u001b[0;34m\u001b[0m\u001b[0m\n\u001b[0m\u001b[1;32m    703\u001b[0m \u001b[0;34m\u001b[0m\u001b[0m\n\u001b[1;32m    704\u001b[0m     \u001b[0mparser_f\u001b[0m\u001b[0;34m.\u001b[0m\u001b[0m__name__\u001b[0m \u001b[0;34m=\u001b[0m \u001b[0mname\u001b[0m\u001b[0;34m\u001b[0m\u001b[0;34m\u001b[0m\u001b[0m\n",
      "\u001b[0;32m~/anaconda3/lib/python3.7/site-packages/pandas/io/parsers.py\u001b[0m in \u001b[0;36m_read\u001b[0;34m(filepath_or_buffer, kwds)\u001b[0m\n\u001b[1;32m    433\u001b[0m \u001b[0;34m\u001b[0m\u001b[0m\n\u001b[1;32m    434\u001b[0m     \u001b[0;32mtry\u001b[0m\u001b[0;34m:\u001b[0m\u001b[0;34m\u001b[0m\u001b[0;34m\u001b[0m\u001b[0m\n\u001b[0;32m--> 435\u001b[0;31m         \u001b[0mdata\u001b[0m \u001b[0;34m=\u001b[0m \u001b[0mparser\u001b[0m\u001b[0;34m.\u001b[0m\u001b[0mread\u001b[0m\u001b[0;34m(\u001b[0m\u001b[0mnrows\u001b[0m\u001b[0;34m)\u001b[0m\u001b[0;34m\u001b[0m\u001b[0;34m\u001b[0m\u001b[0m\n\u001b[0m\u001b[1;32m    436\u001b[0m     \u001b[0;32mfinally\u001b[0m\u001b[0;34m:\u001b[0m\u001b[0;34m\u001b[0m\u001b[0;34m\u001b[0m\u001b[0m\n\u001b[1;32m    437\u001b[0m         \u001b[0mparser\u001b[0m\u001b[0;34m.\u001b[0m\u001b[0mclose\u001b[0m\u001b[0;34m(\u001b[0m\u001b[0;34m)\u001b[0m\u001b[0;34m\u001b[0m\u001b[0;34m\u001b[0m\u001b[0m\n",
      "\u001b[0;32m~/anaconda3/lib/python3.7/site-packages/pandas/io/parsers.py\u001b[0m in \u001b[0;36mread\u001b[0;34m(self, nrows)\u001b[0m\n\u001b[1;32m   1137\u001b[0m     \u001b[0;32mdef\u001b[0m \u001b[0mread\u001b[0m\u001b[0;34m(\u001b[0m\u001b[0mself\u001b[0m\u001b[0;34m,\u001b[0m \u001b[0mnrows\u001b[0m\u001b[0;34m=\u001b[0m\u001b[0;32mNone\u001b[0m\u001b[0;34m)\u001b[0m\u001b[0;34m:\u001b[0m\u001b[0;34m\u001b[0m\u001b[0;34m\u001b[0m\u001b[0m\n\u001b[1;32m   1138\u001b[0m         \u001b[0mnrows\u001b[0m \u001b[0;34m=\u001b[0m \u001b[0m_validate_integer\u001b[0m\u001b[0;34m(\u001b[0m\u001b[0;34m'nrows'\u001b[0m\u001b[0;34m,\u001b[0m \u001b[0mnrows\u001b[0m\u001b[0;34m)\u001b[0m\u001b[0;34m\u001b[0m\u001b[0;34m\u001b[0m\u001b[0m\n\u001b[0;32m-> 1139\u001b[0;31m         \u001b[0mret\u001b[0m \u001b[0;34m=\u001b[0m \u001b[0mself\u001b[0m\u001b[0;34m.\u001b[0m\u001b[0m_engine\u001b[0m\u001b[0;34m.\u001b[0m\u001b[0mread\u001b[0m\u001b[0;34m(\u001b[0m\u001b[0mnrows\u001b[0m\u001b[0;34m)\u001b[0m\u001b[0;34m\u001b[0m\u001b[0;34m\u001b[0m\u001b[0m\n\u001b[0m\u001b[1;32m   1140\u001b[0m \u001b[0;34m\u001b[0m\u001b[0m\n\u001b[1;32m   1141\u001b[0m         \u001b[0;31m# May alter columns / col_dict\u001b[0m\u001b[0;34m\u001b[0m\u001b[0;34m\u001b[0m\u001b[0;34m\u001b[0m\u001b[0m\n",
      "\u001b[0;32m~/anaconda3/lib/python3.7/site-packages/pandas/io/parsers.py\u001b[0m in \u001b[0;36mread\u001b[0;34m(self, nrows)\u001b[0m\n\u001b[1;32m   1993\u001b[0m     \u001b[0;32mdef\u001b[0m \u001b[0mread\u001b[0m\u001b[0;34m(\u001b[0m\u001b[0mself\u001b[0m\u001b[0;34m,\u001b[0m \u001b[0mnrows\u001b[0m\u001b[0;34m=\u001b[0m\u001b[0;32mNone\u001b[0m\u001b[0;34m)\u001b[0m\u001b[0;34m:\u001b[0m\u001b[0;34m\u001b[0m\u001b[0;34m\u001b[0m\u001b[0m\n\u001b[1;32m   1994\u001b[0m         \u001b[0;32mtry\u001b[0m\u001b[0;34m:\u001b[0m\u001b[0;34m\u001b[0m\u001b[0;34m\u001b[0m\u001b[0m\n\u001b[0;32m-> 1995\u001b[0;31m             \u001b[0mdata\u001b[0m \u001b[0;34m=\u001b[0m \u001b[0mself\u001b[0m\u001b[0;34m.\u001b[0m\u001b[0m_reader\u001b[0m\u001b[0;34m.\u001b[0m\u001b[0mread\u001b[0m\u001b[0;34m(\u001b[0m\u001b[0mnrows\u001b[0m\u001b[0;34m)\u001b[0m\u001b[0;34m\u001b[0m\u001b[0;34m\u001b[0m\u001b[0m\n\u001b[0m\u001b[1;32m   1996\u001b[0m         \u001b[0;32mexcept\u001b[0m \u001b[0mStopIteration\u001b[0m\u001b[0;34m:\u001b[0m\u001b[0;34m\u001b[0m\u001b[0;34m\u001b[0m\u001b[0m\n\u001b[1;32m   1997\u001b[0m             \u001b[0;32mif\u001b[0m \u001b[0mself\u001b[0m\u001b[0;34m.\u001b[0m\u001b[0m_first_chunk\u001b[0m\u001b[0;34m:\u001b[0m\u001b[0;34m\u001b[0m\u001b[0;34m\u001b[0m\u001b[0m\n",
      "\u001b[0;32mpandas/_libs/parsers.pyx\u001b[0m in \u001b[0;36mpandas._libs.parsers.TextReader.read\u001b[0;34m()\u001b[0m\n",
      "\u001b[0;32mpandas/_libs/parsers.pyx\u001b[0m in \u001b[0;36mpandas._libs.parsers.TextReader._read_low_memory\u001b[0;34m()\u001b[0m\n",
      "\u001b[0;32mpandas/_libs/parsers.pyx\u001b[0m in \u001b[0;36mpandas._libs.parsers.TextReader._read_rows\u001b[0;34m()\u001b[0m\n",
      "\u001b[0;32mpandas/_libs/parsers.pyx\u001b[0m in \u001b[0;36mpandas._libs.parsers.TextReader._tokenize_rows\u001b[0;34m()\u001b[0m\n",
      "\u001b[0;32mpandas/_libs/parsers.pyx\u001b[0m in \u001b[0;36mpandas._libs.parsers.raise_parser_error\u001b[0;34m()\u001b[0m\n",
      "\u001b[0;31mParserError\u001b[0m: Error tokenizing data. C error: Expected 1 fields in line 4, saw 2\n"
     ]
    }
   ],
   "source": [
    "df=pd.read_csv(path)"
   ]
  },
  {
   "cell_type": "code",
   "execution_count": 11,
   "metadata": {
    "collapsed": true
   },
   "outputs": [
    {
     "data": {
      "text/html": [
       "<div>\n",
       "<style scoped>\n",
       "    .dataframe tbody tr th:only-of-type {\n",
       "        vertical-align: middle;\n",
       "    }\n",
       "\n",
       "    .dataframe tbody tr th {\n",
       "        vertical-align: top;\n",
       "    }\n",
       "\n",
       "    .dataframe thead th {\n",
       "        text-align: right;\n",
       "    }\n",
       "</style>\n",
       "<table border=\"1\" class=\"dataframe\">\n",
       "  <thead>\n",
       "    <tr style=\"text-align: right;\">\n",
       "      <th></th>\n",
       "      <th>itemID</th>\n",
       "      <th>isCategory</th>\n",
       "    </tr>\n",
       "  </thead>\n",
       "  <tbody>\n",
       "    <tr>\n",
       "      <th>0</th>\n",
       "      <td>1</td>\n",
       "      <td>1</td>\n",
       "    </tr>\n",
       "    <tr>\n",
       "      <th>1</th>\n",
       "      <td>2</td>\n",
       "      <td>1</td>\n",
       "    </tr>\n",
       "    <tr>\n",
       "      <th>2</th>\n",
       "      <td>3</td>\n",
       "      <td>1</td>\n",
       "    </tr>\n",
       "    <tr>\n",
       "      <th>3</th>\n",
       "      <td>4</td>\n",
       "      <td>1</td>\n",
       "    </tr>\n",
       "    <tr>\n",
       "      <th>4</th>\n",
       "      <td>5</td>\n",
       "      <td>1</td>\n",
       "    </tr>\n",
       "    <tr>\n",
       "      <th>5</th>\n",
       "      <td>25</td>\n",
       "      <td>1</td>\n",
       "    </tr>\n",
       "    <tr>\n",
       "      <th>6</th>\n",
       "      <td>27</td>\n",
       "      <td>1</td>\n",
       "    </tr>\n",
       "    <tr>\n",
       "      <th>7</th>\n",
       "      <td>31</td>\n",
       "      <td>1</td>\n",
       "    </tr>\n",
       "    <tr>\n",
       "      <th>8</th>\n",
       "      <td>32</td>\n",
       "      <td>1</td>\n",
       "    </tr>\n",
       "    <tr>\n",
       "      <th>9</th>\n",
       "      <td>36</td>\n",
       "      <td>1</td>\n",
       "    </tr>\n",
       "    <tr>\n",
       "      <th>10</th>\n",
       "      <td>37</td>\n",
       "      <td>1</td>\n",
       "    </tr>\n",
       "    <tr>\n",
       "      <th>11</th>\n",
       "      <td>38</td>\n",
       "      <td>1</td>\n",
       "    </tr>\n",
       "    <tr>\n",
       "      <th>12</th>\n",
       "      <td>39</td>\n",
       "      <td>1</td>\n",
       "    </tr>\n",
       "    <tr>\n",
       "      <th>13</th>\n",
       "      <td>40</td>\n",
       "      <td>1</td>\n",
       "    </tr>\n",
       "    <tr>\n",
       "      <th>14</th>\n",
       "      <td>41</td>\n",
       "      <td>1</td>\n",
       "    </tr>\n",
       "    <tr>\n",
       "      <th>15</th>\n",
       "      <td>43</td>\n",
       "      <td>1</td>\n",
       "    </tr>\n",
       "    <tr>\n",
       "      <th>16</th>\n",
       "      <td>44</td>\n",
       "      <td>1</td>\n",
       "    </tr>\n",
       "    <tr>\n",
       "      <th>17</th>\n",
       "      <td>45</td>\n",
       "      <td>1</td>\n",
       "    </tr>\n",
       "    <tr>\n",
       "      <th>18</th>\n",
       "      <td>46</td>\n",
       "      <td>1</td>\n",
       "    </tr>\n",
       "    <tr>\n",
       "      <th>19</th>\n",
       "      <td>47</td>\n",
       "      <td>1</td>\n",
       "    </tr>\n",
       "    <tr>\n",
       "      <th>20</th>\n",
       "      <td>48</td>\n",
       "      <td>1</td>\n",
       "    </tr>\n",
       "    <tr>\n",
       "      <th>21</th>\n",
       "      <td>49</td>\n",
       "      <td>1</td>\n",
       "    </tr>\n",
       "    <tr>\n",
       "      <th>22</th>\n",
       "      <td>53</td>\n",
       "      <td>1</td>\n",
       "    </tr>\n",
       "    <tr>\n",
       "      <th>23</th>\n",
       "      <td>54</td>\n",
       "      <td>1</td>\n",
       "    </tr>\n",
       "    <tr>\n",
       "      <th>24</th>\n",
       "      <td>56</td>\n",
       "      <td>1</td>\n",
       "    </tr>\n",
       "    <tr>\n",
       "      <th>25</th>\n",
       "      <td>57</td>\n",
       "      <td>1</td>\n",
       "    </tr>\n",
       "    <tr>\n",
       "      <th>26</th>\n",
       "      <td>68</td>\n",
       "      <td>1</td>\n",
       "    </tr>\n",
       "    <tr>\n",
       "      <th>27</th>\n",
       "      <td>72</td>\n",
       "      <td>1</td>\n",
       "    </tr>\n",
       "    <tr>\n",
       "      <th>28</th>\n",
       "      <td>76</td>\n",
       "      <td>1</td>\n",
       "    </tr>\n",
       "    <tr>\n",
       "      <th>29</th>\n",
       "      <td>77</td>\n",
       "      <td>1</td>\n",
       "    </tr>\n",
       "    <tr>\n",
       "      <th>...</th>\n",
       "      <td>...</td>\n",
       "      <td>...</td>\n",
       "    </tr>\n",
       "    <tr>\n",
       "      <th>7159</th>\n",
       "      <td>51448</td>\n",
       "      <td>0</td>\n",
       "    </tr>\n",
       "    <tr>\n",
       "      <th>7160</th>\n",
       "      <td>51449</td>\n",
       "      <td>0</td>\n",
       "    </tr>\n",
       "    <tr>\n",
       "      <th>7161</th>\n",
       "      <td>51450</td>\n",
       "      <td>0</td>\n",
       "    </tr>\n",
       "    <tr>\n",
       "      <th>7162</th>\n",
       "      <td>51451</td>\n",
       "      <td>0</td>\n",
       "    </tr>\n",
       "    <tr>\n",
       "      <th>7163</th>\n",
       "      <td>51452</td>\n",
       "      <td>0</td>\n",
       "    </tr>\n",
       "    <tr>\n",
       "      <th>7164</th>\n",
       "      <td>51453</td>\n",
       "      <td>0</td>\n",
       "    </tr>\n",
       "    <tr>\n",
       "      <th>7165</th>\n",
       "      <td>51454</td>\n",
       "      <td>0</td>\n",
       "    </tr>\n",
       "    <tr>\n",
       "      <th>7166</th>\n",
       "      <td>51455</td>\n",
       "      <td>0</td>\n",
       "    </tr>\n",
       "    <tr>\n",
       "      <th>7167</th>\n",
       "      <td>51456</td>\n",
       "      <td>0</td>\n",
       "    </tr>\n",
       "    <tr>\n",
       "      <th>7168</th>\n",
       "      <td>51457</td>\n",
       "      <td>0</td>\n",
       "    </tr>\n",
       "    <tr>\n",
       "      <th>7169</th>\n",
       "      <td>51458</td>\n",
       "      <td>0</td>\n",
       "    </tr>\n",
       "    <tr>\n",
       "      <th>7170</th>\n",
       "      <td>51459</td>\n",
       "      <td>0</td>\n",
       "    </tr>\n",
       "    <tr>\n",
       "      <th>7171</th>\n",
       "      <td>51467</td>\n",
       "      <td>0</td>\n",
       "    </tr>\n",
       "    <tr>\n",
       "      <th>7172</th>\n",
       "      <td>51479</td>\n",
       "      <td>0</td>\n",
       "    </tr>\n",
       "    <tr>\n",
       "      <th>7173</th>\n",
       "      <td>51480</td>\n",
       "      <td>0</td>\n",
       "    </tr>\n",
       "    <tr>\n",
       "      <th>7174</th>\n",
       "      <td>51482</td>\n",
       "      <td>0</td>\n",
       "    </tr>\n",
       "    <tr>\n",
       "      <th>7175</th>\n",
       "      <td>51489</td>\n",
       "      <td>0</td>\n",
       "    </tr>\n",
       "    <tr>\n",
       "      <th>7176</th>\n",
       "      <td>51491</td>\n",
       "      <td>0</td>\n",
       "    </tr>\n",
       "    <tr>\n",
       "      <th>7177</th>\n",
       "      <td>51496</td>\n",
       "      <td>0</td>\n",
       "    </tr>\n",
       "    <tr>\n",
       "      <th>7178</th>\n",
       "      <td>51498</td>\n",
       "      <td>0</td>\n",
       "    </tr>\n",
       "    <tr>\n",
       "      <th>7179</th>\n",
       "      <td>51507</td>\n",
       "      <td>0</td>\n",
       "    </tr>\n",
       "    <tr>\n",
       "      <th>7180</th>\n",
       "      <td>51514</td>\n",
       "      <td>0</td>\n",
       "    </tr>\n",
       "    <tr>\n",
       "      <th>7181</th>\n",
       "      <td>51521</td>\n",
       "      <td>0</td>\n",
       "    </tr>\n",
       "    <tr>\n",
       "      <th>7182</th>\n",
       "      <td>51526</td>\n",
       "      <td>0</td>\n",
       "    </tr>\n",
       "    <tr>\n",
       "      <th>7183</th>\n",
       "      <td>51529</td>\n",
       "      <td>0</td>\n",
       "    </tr>\n",
       "    <tr>\n",
       "      <th>7184</th>\n",
       "      <td>51530</td>\n",
       "      <td>0</td>\n",
       "    </tr>\n",
       "    <tr>\n",
       "      <th>7185</th>\n",
       "      <td>51532</td>\n",
       "      <td>0</td>\n",
       "    </tr>\n",
       "    <tr>\n",
       "      <th>7186</th>\n",
       "      <td>51533</td>\n",
       "      <td>0</td>\n",
       "    </tr>\n",
       "    <tr>\n",
       "      <th>7187</th>\n",
       "      <td>51534</td>\n",
       "      <td>0</td>\n",
       "    </tr>\n",
       "    <tr>\n",
       "      <th>7188</th>\n",
       "      <td>51555</td>\n",
       "      <td>0</td>\n",
       "    </tr>\n",
       "  </tbody>\n",
       "</table>\n",
       "<p>7189 rows × 2 columns</p>\n",
       "</div>"
      ],
      "text/plain": [
       "      itemID  isCategory\n",
       "0          1           1\n",
       "1          2           1\n",
       "2          3           1\n",
       "3          4           1\n",
       "4          5           1\n",
       "5         25           1\n",
       "6         27           1\n",
       "7         31           1\n",
       "8         32           1\n",
       "9         36           1\n",
       "10        37           1\n",
       "11        38           1\n",
       "12        39           1\n",
       "13        40           1\n",
       "14        41           1\n",
       "15        43           1\n",
       "16        44           1\n",
       "17        45           1\n",
       "18        46           1\n",
       "19        47           1\n",
       "20        48           1\n",
       "21        49           1\n",
       "22        53           1\n",
       "23        54           1\n",
       "24        56           1\n",
       "25        57           1\n",
       "26        68           1\n",
       "27        72           1\n",
       "28        76           1\n",
       "29        77           1\n",
       "...      ...         ...\n",
       "7159   51448           0\n",
       "7160   51449           0\n",
       "7161   51450           0\n",
       "7162   51451           0\n",
       "7163   51452           0\n",
       "7164   51453           0\n",
       "7165   51454           0\n",
       "7166   51455           0\n",
       "7167   51456           0\n",
       "7168   51457           0\n",
       "7169   51458           0\n",
       "7170   51459           0\n",
       "7171   51467           0\n",
       "7172   51479           0\n",
       "7173   51480           0\n",
       "7174   51482           0\n",
       "7175   51489           0\n",
       "7176   51491           0\n",
       "7177   51496           0\n",
       "7178   51498           0\n",
       "7179   51507           0\n",
       "7180   51514           0\n",
       "7181   51521           0\n",
       "7182   51526           0\n",
       "7183   51529           0\n",
       "7184   51530           0\n",
       "7185   51532           0\n",
       "7186   51533           0\n",
       "7187   51534           0\n",
       "7188   51555           0\n",
       "\n",
       "[7189 rows x 2 columns]"
      ]
     },
     "execution_count": 11,
     "metadata": {},
     "output_type": "execute_result"
    }
   ],
   "source": [
    "df"
   ]
  },
  {
   "cell_type": "code",
   "execution_count": null,
   "metadata": {},
   "outputs": [],
   "source": []
  }
 ],
 "metadata": {
  "kernelspec": {
   "display_name": "Python 3",
   "language": "python",
   "name": "python3"
  },
  "language_info": {
   "codemirror_mode": {
    "name": "ipython",
    "version": 3
   },
   "file_extension": ".py",
   "mimetype": "text/x-python",
   "name": "python",
   "nbconvert_exporter": "python",
   "pygments_lexer": "ipython3",
   "version": "3.7.7"
  },
  "toc": {
   "base_numbering": 1,
   "nav_menu": {},
   "number_sections": true,
   "sideBar": true,
   "skip_h1_title": false,
   "title_cell": "Table of Contents",
   "title_sidebar": "Contents",
   "toc_cell": false,
   "toc_position": {},
   "toc_section_display": true,
   "toc_window_display": false
  },
  "varInspector": {
   "cols": {
    "lenName": 16,
    "lenType": 16,
    "lenVar": 40
   },
   "kernels_config": {
    "python": {
     "delete_cmd_postfix": "",
     "delete_cmd_prefix": "del ",
     "library": "var_list.py",
     "varRefreshCmd": "print(var_dic_list())"
    },
    "r": {
     "delete_cmd_postfix": ") ",
     "delete_cmd_prefix": "rm(",
     "library": "var_list.r",
     "varRefreshCmd": "cat(var_dic_list()) "
    }
   },
   "types_to_exclude": [
    "module",
    "function",
    "builtin_function_or_method",
    "instance",
    "_Feature"
   ],
   "window_display": false
  }
 },
 "nbformat": 4,
 "nbformat_minor": 2
}
